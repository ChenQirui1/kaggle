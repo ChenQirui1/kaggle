{
 "cells": [
  {
   "cell_type": "markdown",
   "id": "5b8b7cc6-ee80-4651-a7b5-f7d261d96676",
   "metadata": {},
   "source": [
    "# pytorch implementation"
   ]
  },
  {
   "cell_type": "code",
   "execution_count": 5,
   "id": "f5afc0b8-9a56-4051-a0ab-e918d03b0c2d",
   "metadata": {
    "tags": []
   },
   "outputs": [],
   "source": [
    "#import modules\n",
    "import pandas as pd\n",
    "from torch import nn\n",
    "import torch\n",
    "from sklearn.metrics import r"
   ]
  },
  {
   "cell_type": "code",
   "execution_count": 6,
   "id": "5908a6e7-5794-478e-91ff-2cc8dc64ca9b",
   "metadata": {
    "tags": []
   },
   "outputs": [],
   "source": [
    "training_data = pd.read_csv('mnist/train.csv')"
   ]
  },
  {
   "cell_type": "code",
   "execution_count": 7,
   "id": "3747d76b-1d6f-4920-b797-151c6df793e4",
   "metadata": {
    "tags": []
   },
   "outputs": [],
   "source": [
    "#perform binary classification on the dataset instead of multi-class classification as a test\n",
    "#as such, only records with a label of 0 or 1 are used\n",
    "\n",
    "#filtering\n",
    "binary_df = training_data[training_data['label'].isin([0,1])]"
   ]
  },
  {
   "cell_type": "code",
   "execution_count": 8,
   "id": "504ed658-7713-4c9c-a04d-dfcad20a16a7",
   "metadata": {
    "tags": []
   },
   "outputs": [],
   "source": [
    "X = binary_df.drop(columns=['label']).values\n",
    "y = binary_df['label'].values"
   ]
  },
  {
   "cell_type": "code",
   "execution_count": 9,
   "id": "fc6dc5cd-a109-4254-80da-a0ef9cc5d100",
   "metadata": {
    "tags": []
   },
   "outputs": [
    {
     "ename": "NameError",
     "evalue": "name 'train_test_split' is not defined",
     "output_type": "error",
     "traceback": [
      "\u001b[1;31m---------------------------------------------------------------------------\u001b[0m",
      "\u001b[1;31mNameError\u001b[0m                                 Traceback (most recent call last)",
      "Cell \u001b[1;32mIn[9], line 1\u001b[0m\n\u001b[1;32m----> 1\u001b[0m X_train,X_test,y_train,y_test \u001b[38;5;241m=\u001b[39m \u001b[43mtrain_test_split\u001b[49m(X,y,test_size\u001b[38;5;241m=\u001b[39m\u001b[38;5;241m0.2\u001b[39m,random_state\u001b[38;5;241m=\u001b[39m\u001b[38;5;241m42\u001b[39m)\n",
      "\u001b[1;31mNameError\u001b[0m: name 'train_test_split' is not defined"
     ]
    }
   ],
   "source": [
    "X_train,X_test,y_train,y_test = train_test_split(X,y,test_size=0.2,random_state=42)"
   ]
  },
  {
   "cell_type": "code",
   "execution_count": 141,
   "id": "34f7b4c7-4fc7-4dd7-90c1-ce982618aa45",
   "metadata": {},
   "outputs": [
    {
     "name": "stdout",
     "output_type": "stream",
     "text": [
      "(7052, 784)\n",
      "(7052,)\n"
     ]
    }
   ],
   "source": [
    "print(X_train.shape)\n",
    "print(y_train.shape)"
   ]
  }
 ],
 "metadata": {
  "kernelspec": {
   "display_name": "ds",
   "language": "python",
   "name": "ds"
  },
  "language_info": {
   "codemirror_mode": {
    "name": "ipython",
    "version": 3
   },
   "file_extension": ".py",
   "mimetype": "text/x-python",
   "name": "python",
   "nbconvert_exporter": "python",
   "pygments_lexer": "ipython3",
   "version": "3.10.9"
  }
 },
 "nbformat": 4,
 "nbformat_minor": 5
}
