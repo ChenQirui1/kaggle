{
 "cells": [
  {
   "cell_type": "code",
   "execution_count": 1,
   "metadata": {},
   "outputs": [],
   "source": [
    "import traceback"
   ]
  },
  {
   "cell_type": "code",
   "execution_count": 54,
   "metadata": {},
   "outputs": [],
   "source": [
    "class Parent():\n",
    "    def __init__(self):\n",
    "        pass\n",
    "    def forward(self):\n",
    "        print(\"yes\")\n",
    "    \n",
    "    def createAnother(self):\n",
    "        return Another(self)\n",
    "        \n",
    "    def fit(self):\n",
    "        another = self.createAnother()\n",
    "        another.test()\n",
    "    \n",
    "\n",
    "class Child(Parent):\n",
    "    def __init__(self):\n",
    "        super().__init__()\n",
    "        self.data = 0\n",
    "        \n",
    "\n",
    "    def forward(self):\n",
    "        self.data += 1\n",
    "        \n",
    "\n",
    "class Another():\n",
    "    def __init__(self,model):\n",
    "        self.model = model\n",
    "    \n",
    "    \n",
    "    def test(self):\n",
    "        A = self.model.forward()\n",
    "        return A\n",
    "        \n",
    "        \n",
    "\n"
   ]
  },
  {
   "cell_type": "code",
   "execution_count": 55,
   "metadata": {},
   "outputs": [
    {
     "data": {
      "text/plain": [
       "1"
      ]
     },
     "execution_count": 55,
     "metadata": {},
     "output_type": "execute_result"
    }
   ],
   "source": [
    "test = Child()\n",
    "test.fit()\n",
    "test.data"
   ]
  },
  {
   "cell_type": "code",
   "execution_count": 53,
   "metadata": {},
   "outputs": [
    {
     "ename": "NameError",
     "evalue": "name 'another' is not defined",
     "output_type": "error",
     "traceback": [
      "\u001b[1;31m---------------------------------------------------------------------------\u001b[0m",
      "\u001b[1;31mNameError\u001b[0m                                 Traceback (most recent call last)",
      "\u001b[1;32mc:\\Users\\potat\\Documents\\Computing\\kaggle\\scratchpad.ipynb Cell 4\u001b[0m line \u001b[0;36m1\n\u001b[1;32m----> <a href='vscode-notebook-cell:/c%3A/Users/potat/Documents/Computing/kaggle/scratchpad.ipynb#W3sZmlsZQ%3D%3D?line=0'>1</a>\u001b[0m another\n",
      "\u001b[1;31mNameError\u001b[0m: name 'another' is not defined"
     ]
    }
   ],
   "source": [
    "another\n",
    "\n"
   ]
  },
  {
   "cell_type": "code",
   "execution_count": null,
   "metadata": {},
   "outputs": [],
   "source": []
  }
 ],
 "metadata": {
  "kernelspec": {
   "display_name": "ds",
   "language": "python",
   "name": "python3"
  },
  "language_info": {
   "codemirror_mode": {
    "name": "ipython",
    "version": 3
   },
   "file_extension": ".py",
   "mimetype": "text/x-python",
   "name": "python",
   "nbconvert_exporter": "python",
   "pygments_lexer": "ipython3",
   "version": "3.10.9"
  },
  "orig_nbformat": 4
 },
 "nbformat": 4,
 "nbformat_minor": 2
}
