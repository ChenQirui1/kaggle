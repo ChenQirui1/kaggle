{
 "cells": [
  {
   "attachments": {},
   "cell_type": "markdown",
   "metadata": {},
   "source": [
    "# Modelling\n"
   ]
  },
  {
   "cell_type": "markdown",
   "metadata": {},
   "source": [
    "### Importing modules"
   ]
  },
  {
   "cell_type": "code",
   "execution_count": 214,
   "metadata": {},
   "outputs": [],
   "source": [
    "import pandas as pd\n",
    "import numpy as np\n",
    "from sklearn.pipeline import Pipeline\n",
    "from sklearn.preprocessing import OneHotEncoder\n",
    "from sklearn.linear_model import LogisticRegression\n",
    "from sklearn.model_selection import GridSearchCV, train_test_split, cross_val_score\n",
    "from sklearn.compose import ColumnTransformer"
   ]
  },
  {
   "cell_type": "code",
   "execution_count": 230,
   "metadata": {},
   "outputs": [],
   "source": [
    "df_train = pd.read_csv('./data/train.csv')\n",
    "\n",
    "df_test = pd.read_csv('./data/test.csv')"
   ]
  },
  {
   "cell_type": "code",
   "execution_count": 216,
   "metadata": {},
   "outputs": [],
   "source": [
    "# data cleaning steps outline in eda.ipynb\n",
    "def clean(df):\n",
    "    #df = df[['Survived','Pclass','Sex','Age','SibSp','Parch','Embarked']].copy()\n",
    "    df = df.drop(['PassengerId','Name','Ticket','Cabin'],axis=1)\n",
    "    #age field\n",
    "    df['Age'].fillna(df['Age'].mean(),inplace=True)\n",
    "\n",
    "    return df\n",
    "    #df['Sex'] = np.where(df['Sex'] == 'male',1,0)"
   ]
  },
  {
   "cell_type": "code",
   "execution_count": 217,
   "metadata": {},
   "outputs": [],
   "source": [
    "df_train = clean(df_train)\n",
    "\n",
    "X = df_train.drop('Survived',axis=1)\n",
    "\n",
    "y = df_train[\"Survived\"]\n",
    "\n",
    "pred_data = clean(df_test)"
   ]
  },
  {
   "cell_type": "code",
   "execution_count": 218,
   "metadata": {},
   "outputs": [],
   "source": [
    "X_train,X_test, y_train,y_test = train_test_split(X,y)"
   ]
  },
  {
   "cell_type": "code",
   "execution_count": 219,
   "metadata": {},
   "outputs": [],
   "source": [
    "categorical_features = [\"Embarked\", \"Sex\"]\n",
    "\n",
    "ohe = OneHotEncoder()\n",
    "preprocessor = ColumnTransformer([('cat',ohe,categorical_features)])"
   ]
  },
  {
   "cell_type": "code",
   "execution_count": 220,
   "metadata": {},
   "outputs": [],
   "source": [
    "log_clt = Pipeline([('preprocessor',preprocessor),\n",
    "                ('clt',LogisticRegression(penalty=None))])\n"
   ]
  },
  {
   "cell_type": "code",
   "execution_count": 180,
   "metadata": {},
   "outputs": [
    {
     "data": {
      "text/html": [
       "<style>#sk-container-id-12 {color: black;background-color: white;}#sk-container-id-12 pre{padding: 0;}#sk-container-id-12 div.sk-toggleable {background-color: white;}#sk-container-id-12 label.sk-toggleable__label {cursor: pointer;display: block;width: 100%;margin-bottom: 0;padding: 0.3em;box-sizing: border-box;text-align: center;}#sk-container-id-12 label.sk-toggleable__label-arrow:before {content: \"▸\";float: left;margin-right: 0.25em;color: #696969;}#sk-container-id-12 label.sk-toggleable__label-arrow:hover:before {color: black;}#sk-container-id-12 div.sk-estimator:hover label.sk-toggleable__label-arrow:before {color: black;}#sk-container-id-12 div.sk-toggleable__content {max-height: 0;max-width: 0;overflow: hidden;text-align: left;background-color: #f0f8ff;}#sk-container-id-12 div.sk-toggleable__content pre {margin: 0.2em;color: black;border-radius: 0.25em;background-color: #f0f8ff;}#sk-container-id-12 input.sk-toggleable__control:checked~div.sk-toggleable__content {max-height: 200px;max-width: 100%;overflow: auto;}#sk-container-id-12 input.sk-toggleable__control:checked~label.sk-toggleable__label-arrow:before {content: \"▾\";}#sk-container-id-12 div.sk-estimator input.sk-toggleable__control:checked~label.sk-toggleable__label {background-color: #d4ebff;}#sk-container-id-12 div.sk-label input.sk-toggleable__control:checked~label.sk-toggleable__label {background-color: #d4ebff;}#sk-container-id-12 input.sk-hidden--visually {border: 0;clip: rect(1px 1px 1px 1px);clip: rect(1px, 1px, 1px, 1px);height: 1px;margin: -1px;overflow: hidden;padding: 0;position: absolute;width: 1px;}#sk-container-id-12 div.sk-estimator {font-family: monospace;background-color: #f0f8ff;border: 1px dotted black;border-radius: 0.25em;box-sizing: border-box;margin-bottom: 0.5em;}#sk-container-id-12 div.sk-estimator:hover {background-color: #d4ebff;}#sk-container-id-12 div.sk-parallel-item::after {content: \"\";width: 100%;border-bottom: 1px solid gray;flex-grow: 1;}#sk-container-id-12 div.sk-label:hover label.sk-toggleable__label {background-color: #d4ebff;}#sk-container-id-12 div.sk-serial::before {content: \"\";position: absolute;border-left: 1px solid gray;box-sizing: border-box;top: 0;bottom: 0;left: 50%;z-index: 0;}#sk-container-id-12 div.sk-serial {display: flex;flex-direction: column;align-items: center;background-color: white;padding-right: 0.2em;padding-left: 0.2em;position: relative;}#sk-container-id-12 div.sk-item {position: relative;z-index: 1;}#sk-container-id-12 div.sk-parallel {display: flex;align-items: stretch;justify-content: center;background-color: white;position: relative;}#sk-container-id-12 div.sk-item::before, #sk-container-id-12 div.sk-parallel-item::before {content: \"\";position: absolute;border-left: 1px solid gray;box-sizing: border-box;top: 0;bottom: 0;left: 50%;z-index: -1;}#sk-container-id-12 div.sk-parallel-item {display: flex;flex-direction: column;z-index: 1;position: relative;background-color: white;}#sk-container-id-12 div.sk-parallel-item:first-child::after {align-self: flex-end;width: 50%;}#sk-container-id-12 div.sk-parallel-item:last-child::after {align-self: flex-start;width: 50%;}#sk-container-id-12 div.sk-parallel-item:only-child::after {width: 0;}#sk-container-id-12 div.sk-dashed-wrapped {border: 1px dashed gray;margin: 0 0.4em 0.5em 0.4em;box-sizing: border-box;padding-bottom: 0.4em;background-color: white;}#sk-container-id-12 div.sk-label label {font-family: monospace;font-weight: bold;display: inline-block;line-height: 1.2em;}#sk-container-id-12 div.sk-label-container {text-align: center;}#sk-container-id-12 div.sk-container {/* jupyter's `normalize.less` sets `[hidden] { display: none; }` but bootstrap.min.css set `[hidden] { display: none !important; }` so we also need the `!important` here to be able to override the default hidden behavior on the sphinx rendered scikit-learn.org. See: https://github.com/scikit-learn/scikit-learn/issues/21755 */display: inline-block !important;position: relative;}#sk-container-id-12 div.sk-text-repr-fallback {display: none;}</style><div id=\"sk-container-id-12\" class=\"sk-top-container\"><div class=\"sk-text-repr-fallback\"><pre>Pipeline(steps=[(&#x27;preprocessor&#x27;,\n",
       "                 ColumnTransformer(transformers=[(&#x27;cat&#x27;, OneHotEncoder(),\n",
       "                                                  [&#x27;Embarked&#x27;, &#x27;Sex&#x27;])])),\n",
       "                (&#x27;clt&#x27;, LogisticRegression(penalty=None))])</pre><b>In a Jupyter environment, please rerun this cell to show the HTML representation or trust the notebook. <br />On GitHub, the HTML representation is unable to render, please try loading this page with nbviewer.org.</b></div><div class=\"sk-container\" hidden><div class=\"sk-item sk-dashed-wrapped\"><div class=\"sk-label-container\"><div class=\"sk-label sk-toggleable\"><input class=\"sk-toggleable__control sk-hidden--visually\" id=\"sk-estimator-id-59\" type=\"checkbox\" ><label for=\"sk-estimator-id-59\" class=\"sk-toggleable__label sk-toggleable__label-arrow\">Pipeline</label><div class=\"sk-toggleable__content\"><pre>Pipeline(steps=[(&#x27;preprocessor&#x27;,\n",
       "                 ColumnTransformer(transformers=[(&#x27;cat&#x27;, OneHotEncoder(),\n",
       "                                                  [&#x27;Embarked&#x27;, &#x27;Sex&#x27;])])),\n",
       "                (&#x27;clt&#x27;, LogisticRegression(penalty=None))])</pre></div></div></div><div class=\"sk-serial\"><div class=\"sk-item sk-dashed-wrapped\"><div class=\"sk-label-container\"><div class=\"sk-label sk-toggleable\"><input class=\"sk-toggleable__control sk-hidden--visually\" id=\"sk-estimator-id-60\" type=\"checkbox\" ><label for=\"sk-estimator-id-60\" class=\"sk-toggleable__label sk-toggleable__label-arrow\">preprocessor: ColumnTransformer</label><div class=\"sk-toggleable__content\"><pre>ColumnTransformer(transformers=[(&#x27;cat&#x27;, OneHotEncoder(), [&#x27;Embarked&#x27;, &#x27;Sex&#x27;])])</pre></div></div></div><div class=\"sk-parallel\"><div class=\"sk-parallel-item\"><div class=\"sk-item\"><div class=\"sk-label-container\"><div class=\"sk-label sk-toggleable\"><input class=\"sk-toggleable__control sk-hidden--visually\" id=\"sk-estimator-id-61\" type=\"checkbox\" ><label for=\"sk-estimator-id-61\" class=\"sk-toggleable__label sk-toggleable__label-arrow\">cat</label><div class=\"sk-toggleable__content\"><pre>[&#x27;Embarked&#x27;, &#x27;Sex&#x27;]</pre></div></div></div><div class=\"sk-serial\"><div class=\"sk-item\"><div class=\"sk-estimator sk-toggleable\"><input class=\"sk-toggleable__control sk-hidden--visually\" id=\"sk-estimator-id-62\" type=\"checkbox\" ><label for=\"sk-estimator-id-62\" class=\"sk-toggleable__label sk-toggleable__label-arrow\">OneHotEncoder</label><div class=\"sk-toggleable__content\"><pre>OneHotEncoder()</pre></div></div></div></div></div></div></div></div><div class=\"sk-item\"><div class=\"sk-estimator sk-toggleable\"><input class=\"sk-toggleable__control sk-hidden--visually\" id=\"sk-estimator-id-63\" type=\"checkbox\" ><label for=\"sk-estimator-id-63\" class=\"sk-toggleable__label sk-toggleable__label-arrow\">LogisticRegression</label><div class=\"sk-toggleable__content\"><pre>LogisticRegression(penalty=None)</pre></div></div></div></div></div></div></div>"
      ],
      "text/plain": [
       "Pipeline(steps=[('preprocessor',\n",
       "                 ColumnTransformer(transformers=[('cat', OneHotEncoder(),\n",
       "                                                  ['Embarked', 'Sex'])])),\n",
       "                ('clt', LogisticRegression(penalty=None))])"
      ]
     },
     "execution_count": 180,
     "metadata": {},
     "output_type": "execute_result"
    }
   ],
   "source": [
    "log_clt.fit(X_train,y_train)"
   ]
  },
  {
   "cell_type": "code",
   "execution_count": 190,
   "metadata": {},
   "outputs": [
    {
     "data": {
      "text/plain": [
       "0.8161434977578476"
      ]
     },
     "execution_count": 190,
     "metadata": {},
     "output_type": "execute_result"
    }
   ],
   "source": [
    "log_clt.score(X_test,y_test)"
   ]
  },
  {
   "cell_type": "code",
   "execution_count": 191,
   "metadata": {},
   "outputs": [
    {
     "data": {
      "text/plain": [
       "array([0.79307725, 0.78994572, 0.77123918, 0.72775306, 0.76977536])"
      ]
     },
     "execution_count": 191,
     "metadata": {},
     "output_type": "execute_result"
    }
   ],
   "source": [
    "cross_val_score(log_clt,X,y,scoring='f1_macro')"
   ]
  },
  {
   "cell_type": "code",
   "execution_count": 221,
   "metadata": {},
   "outputs": [
    {
     "data": {
      "text/html": [
       "<style>#sk-container-id-17 {color: black;background-color: white;}#sk-container-id-17 pre{padding: 0;}#sk-container-id-17 div.sk-toggleable {background-color: white;}#sk-container-id-17 label.sk-toggleable__label {cursor: pointer;display: block;width: 100%;margin-bottom: 0;padding: 0.3em;box-sizing: border-box;text-align: center;}#sk-container-id-17 label.sk-toggleable__label-arrow:before {content: \"▸\";float: left;margin-right: 0.25em;color: #696969;}#sk-container-id-17 label.sk-toggleable__label-arrow:hover:before {color: black;}#sk-container-id-17 div.sk-estimator:hover label.sk-toggleable__label-arrow:before {color: black;}#sk-container-id-17 div.sk-toggleable__content {max-height: 0;max-width: 0;overflow: hidden;text-align: left;background-color: #f0f8ff;}#sk-container-id-17 div.sk-toggleable__content pre {margin: 0.2em;color: black;border-radius: 0.25em;background-color: #f0f8ff;}#sk-container-id-17 input.sk-toggleable__control:checked~div.sk-toggleable__content {max-height: 200px;max-width: 100%;overflow: auto;}#sk-container-id-17 input.sk-toggleable__control:checked~label.sk-toggleable__label-arrow:before {content: \"▾\";}#sk-container-id-17 div.sk-estimator input.sk-toggleable__control:checked~label.sk-toggleable__label {background-color: #d4ebff;}#sk-container-id-17 div.sk-label input.sk-toggleable__control:checked~label.sk-toggleable__label {background-color: #d4ebff;}#sk-container-id-17 input.sk-hidden--visually {border: 0;clip: rect(1px 1px 1px 1px);clip: rect(1px, 1px, 1px, 1px);height: 1px;margin: -1px;overflow: hidden;padding: 0;position: absolute;width: 1px;}#sk-container-id-17 div.sk-estimator {font-family: monospace;background-color: #f0f8ff;border: 1px dotted black;border-radius: 0.25em;box-sizing: border-box;margin-bottom: 0.5em;}#sk-container-id-17 div.sk-estimator:hover {background-color: #d4ebff;}#sk-container-id-17 div.sk-parallel-item::after {content: \"\";width: 100%;border-bottom: 1px solid gray;flex-grow: 1;}#sk-container-id-17 div.sk-label:hover label.sk-toggleable__label {background-color: #d4ebff;}#sk-container-id-17 div.sk-serial::before {content: \"\";position: absolute;border-left: 1px solid gray;box-sizing: border-box;top: 0;bottom: 0;left: 50%;z-index: 0;}#sk-container-id-17 div.sk-serial {display: flex;flex-direction: column;align-items: center;background-color: white;padding-right: 0.2em;padding-left: 0.2em;position: relative;}#sk-container-id-17 div.sk-item {position: relative;z-index: 1;}#sk-container-id-17 div.sk-parallel {display: flex;align-items: stretch;justify-content: center;background-color: white;position: relative;}#sk-container-id-17 div.sk-item::before, #sk-container-id-17 div.sk-parallel-item::before {content: \"\";position: absolute;border-left: 1px solid gray;box-sizing: border-box;top: 0;bottom: 0;left: 50%;z-index: -1;}#sk-container-id-17 div.sk-parallel-item {display: flex;flex-direction: column;z-index: 1;position: relative;background-color: white;}#sk-container-id-17 div.sk-parallel-item:first-child::after {align-self: flex-end;width: 50%;}#sk-container-id-17 div.sk-parallel-item:last-child::after {align-self: flex-start;width: 50%;}#sk-container-id-17 div.sk-parallel-item:only-child::after {width: 0;}#sk-container-id-17 div.sk-dashed-wrapped {border: 1px dashed gray;margin: 0 0.4em 0.5em 0.4em;box-sizing: border-box;padding-bottom: 0.4em;background-color: white;}#sk-container-id-17 div.sk-label label {font-family: monospace;font-weight: bold;display: inline-block;line-height: 1.2em;}#sk-container-id-17 div.sk-label-container {text-align: center;}#sk-container-id-17 div.sk-container {/* jupyter's `normalize.less` sets `[hidden] { display: none; }` but bootstrap.min.css set `[hidden] { display: none !important; }` so we also need the `!important` here to be able to override the default hidden behavior on the sphinx rendered scikit-learn.org. See: https://github.com/scikit-learn/scikit-learn/issues/21755 */display: inline-block !important;position: relative;}#sk-container-id-17 div.sk-text-repr-fallback {display: none;}</style><div id=\"sk-container-id-17\" class=\"sk-top-container\"><div class=\"sk-text-repr-fallback\"><pre>Pipeline(steps=[(&#x27;preprocessor&#x27;,\n",
       "                 ColumnTransformer(transformers=[(&#x27;cat&#x27;, OneHotEncoder(),\n",
       "                                                  [&#x27;Embarked&#x27;, &#x27;Sex&#x27;])])),\n",
       "                (&#x27;clt&#x27;, LogisticRegression(penalty=None))])</pre><b>In a Jupyter environment, please rerun this cell to show the HTML representation or trust the notebook. <br />On GitHub, the HTML representation is unable to render, please try loading this page with nbviewer.org.</b></div><div class=\"sk-container\" hidden><div class=\"sk-item sk-dashed-wrapped\"><div class=\"sk-label-container\"><div class=\"sk-label sk-toggleable\"><input class=\"sk-toggleable__control sk-hidden--visually\" id=\"sk-estimator-id-85\" type=\"checkbox\" ><label for=\"sk-estimator-id-85\" class=\"sk-toggleable__label sk-toggleable__label-arrow\">Pipeline</label><div class=\"sk-toggleable__content\"><pre>Pipeline(steps=[(&#x27;preprocessor&#x27;,\n",
       "                 ColumnTransformer(transformers=[(&#x27;cat&#x27;, OneHotEncoder(),\n",
       "                                                  [&#x27;Embarked&#x27;, &#x27;Sex&#x27;])])),\n",
       "                (&#x27;clt&#x27;, LogisticRegression(penalty=None))])</pre></div></div></div><div class=\"sk-serial\"><div class=\"sk-item sk-dashed-wrapped\"><div class=\"sk-label-container\"><div class=\"sk-label sk-toggleable\"><input class=\"sk-toggleable__control sk-hidden--visually\" id=\"sk-estimator-id-86\" type=\"checkbox\" ><label for=\"sk-estimator-id-86\" class=\"sk-toggleable__label sk-toggleable__label-arrow\">preprocessor: ColumnTransformer</label><div class=\"sk-toggleable__content\"><pre>ColumnTransformer(transformers=[(&#x27;cat&#x27;, OneHotEncoder(), [&#x27;Embarked&#x27;, &#x27;Sex&#x27;])])</pre></div></div></div><div class=\"sk-parallel\"><div class=\"sk-parallel-item\"><div class=\"sk-item\"><div class=\"sk-label-container\"><div class=\"sk-label sk-toggleable\"><input class=\"sk-toggleable__control sk-hidden--visually\" id=\"sk-estimator-id-87\" type=\"checkbox\" ><label for=\"sk-estimator-id-87\" class=\"sk-toggleable__label sk-toggleable__label-arrow\">cat</label><div class=\"sk-toggleable__content\"><pre>[&#x27;Embarked&#x27;, &#x27;Sex&#x27;]</pre></div></div></div><div class=\"sk-serial\"><div class=\"sk-item\"><div class=\"sk-estimator sk-toggleable\"><input class=\"sk-toggleable__control sk-hidden--visually\" id=\"sk-estimator-id-88\" type=\"checkbox\" ><label for=\"sk-estimator-id-88\" class=\"sk-toggleable__label sk-toggleable__label-arrow\">OneHotEncoder</label><div class=\"sk-toggleable__content\"><pre>OneHotEncoder()</pre></div></div></div></div></div></div></div></div><div class=\"sk-item\"><div class=\"sk-estimator sk-toggleable\"><input class=\"sk-toggleable__control sk-hidden--visually\" id=\"sk-estimator-id-89\" type=\"checkbox\" ><label for=\"sk-estimator-id-89\" class=\"sk-toggleable__label sk-toggleable__label-arrow\">LogisticRegression</label><div class=\"sk-toggleable__content\"><pre>LogisticRegression(penalty=None)</pre></div></div></div></div></div></div></div>"
      ],
      "text/plain": [
       "Pipeline(steps=[('preprocessor',\n",
       "                 ColumnTransformer(transformers=[('cat', OneHotEncoder(),\n",
       "                                                  ['Embarked', 'Sex'])])),\n",
       "                ('clt', LogisticRegression(penalty=None))])"
      ]
     },
     "execution_count": 221,
     "metadata": {},
     "output_type": "execute_result"
    }
   ],
   "source": [
    "log_clt.fit(X,y)"
   ]
  },
  {
   "cell_type": "code",
   "execution_count": 226,
   "metadata": {},
   "outputs": [],
   "source": [
    "pred = log_clt.predict(pred_data)"
   ]
  },
  {
   "cell_type": "code",
   "execution_count": 227,
   "metadata": {},
   "outputs": [],
   "source": [
    "output = pd.concat([df_test['PassengerId'],pd.Series(pred,name='Survival')],axis=1)"
   ]
  },
  {
   "cell_type": "code",
   "execution_count": 232,
   "metadata": {},
   "outputs": [],
   "source": [
    "output.to_csv('./output/prediction.csv',index=False)"
   ]
  },
  {
   "cell_type": "code",
   "execution_count": 183,
   "metadata": {},
   "outputs": [],
   "source": [
    "penalty_range = [None,'l1','l2','elasticnet']\n",
    "solver_range = ['lbfgs', 'liblinear', 'newton-cg', 'saga']\n",
    "fit_intercept = [True,False]\n",
    "\n",
    "param_grid = {'clt__penalty': penalty_range,'clt__solver': solver_range,'clt__fit_intercept': fit_intercept}"
   ]
  },
  {
   "cell_type": "code",
   "execution_count": null,
   "metadata": {},
   "outputs": [],
   "source": []
  },
  {
   "cell_type": "code",
   "execution_count": 184,
   "metadata": {},
   "outputs": [],
   "source": [
    "grid = GridSearchCV(log_clt,param_grid,cv=5,verbose=2)"
   ]
  },
  {
   "cell_type": "code",
   "execution_count": 185,
   "metadata": {},
   "outputs": [
    {
     "name": "stdout",
     "output_type": "stream",
     "text": [
      "Fitting 5 folds for each of 32 candidates, totalling 160 fits\n",
      "[CV] END clt__fit_intercept=True, clt__penalty=None, clt__solver=lbfgs; total time=   0.0s\n",
      "[CV] END clt__fit_intercept=True, clt__penalty=None, clt__solver=lbfgs; total time=   0.0s\n",
      "[CV] END clt__fit_intercept=True, clt__penalty=None, clt__solver=lbfgs; total time=   0.0s\n",
      "[CV] END clt__fit_intercept=True, clt__penalty=None, clt__solver=lbfgs; total time=   0.0s\n",
      "[CV] END clt__fit_intercept=True, clt__penalty=None, clt__solver=lbfgs; total time=   0.0s\n",
      "[CV] END clt__fit_intercept=True, clt__penalty=None, clt__solver=liblinear; total time=   0.0s\n",
      "[CV] END clt__fit_intercept=True, clt__penalty=None, clt__solver=liblinear; total time=   0.0s\n",
      "[CV] END clt__fit_intercept=True, clt__penalty=None, clt__solver=liblinear; total time=   0.0s\n",
      "[CV] END clt__fit_intercept=True, clt__penalty=None, clt__solver=liblinear; total time=   0.0s\n",
      "[CV] END clt__fit_intercept=True, clt__penalty=None, clt__solver=liblinear; total time=   0.0s\n",
      "[CV] END clt__fit_intercept=True, clt__penalty=None, clt__solver=newton-cg; total time=   0.0s\n",
      "[CV] END clt__fit_intercept=True, clt__penalty=None, clt__solver=newton-cg; total time=   0.0s\n",
      "[CV] END clt__fit_intercept=True, clt__penalty=None, clt__solver=newton-cg; total time=   0.0s\n",
      "[CV] END clt__fit_intercept=True, clt__penalty=None, clt__solver=newton-cg; total time=   0.0s\n",
      "[CV] END clt__fit_intercept=True, clt__penalty=None, clt__solver=newton-cg; total time=   0.0s\n",
      "[CV] END clt__fit_intercept=True, clt__penalty=None, clt__solver=saga; total time=   0.0s\n",
      "[CV] END clt__fit_intercept=True, clt__penalty=None, clt__solver=saga; total time=   0.0s\n",
      "[CV] END clt__fit_intercept=True, clt__penalty=None, clt__solver=saga; total time=   0.0s\n",
      "[CV] END clt__fit_intercept=True, clt__penalty=None, clt__solver=saga; total time=   0.0s\n",
      "[CV] END clt__fit_intercept=True, clt__penalty=None, clt__solver=saga; total time=   0.0s\n",
      "[CV] END clt__fit_intercept=True, clt__penalty=l1, clt__solver=lbfgs; total time=   0.0s\n",
      "[CV] END clt__fit_intercept=True, clt__penalty=l1, clt__solver=lbfgs; total time=   0.0s\n",
      "[CV] END clt__fit_intercept=True, clt__penalty=l1, clt__solver=lbfgs; total time=   0.0s\n",
      "[CV] END clt__fit_intercept=True, clt__penalty=l1, clt__solver=lbfgs; total time=   0.0s\n",
      "[CV] END clt__fit_intercept=True, clt__penalty=l1, clt__solver=lbfgs; total time=   0.0s\n",
      "[CV] END clt__fit_intercept=True, clt__penalty=l1, clt__solver=liblinear; total time=   0.0s\n",
      "[CV] END clt__fit_intercept=True, clt__penalty=l1, clt__solver=liblinear; total time=   0.0s\n",
      "[CV] END clt__fit_intercept=True, clt__penalty=l1, clt__solver=liblinear; total time=   0.0s\n",
      "[CV] END clt__fit_intercept=True, clt__penalty=l1, clt__solver=liblinear; total time=   0.0s\n",
      "[CV] END clt__fit_intercept=True, clt__penalty=l1, clt__solver=liblinear; total time=   0.0s\n",
      "[CV] END clt__fit_intercept=True, clt__penalty=l1, clt__solver=newton-cg; total time=   0.0s\n",
      "[CV] END clt__fit_intercept=True, clt__penalty=l1, clt__solver=newton-cg; total time=   0.0s\n"
     ]
    },
    {
     "name": "stderr",
     "output_type": "stream",
     "text": [
      "/home/ds/miniconda3/envs/ds/lib/python3.10/site-packages/sklearn/linear_model/_sag.py:350: ConvergenceWarning: The max_iter was reached which means the coef_ did not converge\n",
      "  warnings.warn(\n",
      "/home/ds/miniconda3/envs/ds/lib/python3.10/site-packages/sklearn/linear_model/_sag.py:350: ConvergenceWarning: The max_iter was reached which means the coef_ did not converge\n",
      "  warnings.warn(\n",
      "/home/ds/miniconda3/envs/ds/lib/python3.10/site-packages/sklearn/linear_model/_sag.py:350: ConvergenceWarning: The max_iter was reached which means the coef_ did not converge\n",
      "  warnings.warn(\n",
      "/home/ds/miniconda3/envs/ds/lib/python3.10/site-packages/sklearn/linear_model/_sag.py:350: ConvergenceWarning: The max_iter was reached which means the coef_ did not converge\n",
      "  warnings.warn(\n",
      "/home/ds/miniconda3/envs/ds/lib/python3.10/site-packages/sklearn/linear_model/_sag.py:350: ConvergenceWarning: The max_iter was reached which means the coef_ did not converge\n",
      "  warnings.warn(\n"
     ]
    },
    {
     "name": "stdout",
     "output_type": "stream",
     "text": [
      "[CV] END clt__fit_intercept=True, clt__penalty=l1, clt__solver=newton-cg; total time=   0.0s\n",
      "[CV] END clt__fit_intercept=True, clt__penalty=l1, clt__solver=newton-cg; total time=   0.0s\n",
      "[CV] END clt__fit_intercept=True, clt__penalty=l1, clt__solver=newton-cg; total time=   0.0s\n",
      "[CV] END clt__fit_intercept=True, clt__penalty=l1, clt__solver=saga; total time=   0.0s\n",
      "[CV] END clt__fit_intercept=True, clt__penalty=l1, clt__solver=saga; total time=   0.0s\n",
      "[CV] END clt__fit_intercept=True, clt__penalty=l1, clt__solver=saga; total time=   0.0s\n",
      "[CV] END clt__fit_intercept=True, clt__penalty=l1, clt__solver=saga; total time=   0.0s\n",
      "[CV] END clt__fit_intercept=True, clt__penalty=l1, clt__solver=saga; total time=   0.0s\n",
      "[CV] END clt__fit_intercept=True, clt__penalty=l2, clt__solver=lbfgs; total time=   0.0s\n",
      "[CV] END clt__fit_intercept=True, clt__penalty=l2, clt__solver=lbfgs; total time=   0.0s\n",
      "[CV] END clt__fit_intercept=True, clt__penalty=l2, clt__solver=lbfgs; total time=   0.0s\n",
      "[CV] END clt__fit_intercept=True, clt__penalty=l2, clt__solver=lbfgs; total time=   0.0s\n",
      "[CV] END clt__fit_intercept=True, clt__penalty=l2, clt__solver=lbfgs; total time=   0.0s\n",
      "[CV] END clt__fit_intercept=True, clt__penalty=l2, clt__solver=liblinear; total time=   0.0s\n",
      "[CV] END clt__fit_intercept=True, clt__penalty=l2, clt__solver=liblinear; total time=   0.0s\n",
      "[CV] END clt__fit_intercept=True, clt__penalty=l2, clt__solver=liblinear; total time=   0.0s\n",
      "[CV] END clt__fit_intercept=True, clt__penalty=l2, clt__solver=liblinear; total time=   0.0s\n",
      "[CV] END clt__fit_intercept=True, clt__penalty=l2, clt__solver=liblinear; total time=   0.0s\n",
      "[CV] END clt__fit_intercept=True, clt__penalty=l2, clt__solver=newton-cg; total time=   0.0s\n",
      "[CV] END clt__fit_intercept=True, clt__penalty=l2, clt__solver=newton-cg; total time=   0.0s\n",
      "[CV] END clt__fit_intercept=True, clt__penalty=l2, clt__solver=newton-cg; total time=   0.0s\n",
      "[CV] END clt__fit_intercept=True, clt__penalty=l2, clt__solver=newton-cg; total time=   0.0s\n",
      "[CV] END clt__fit_intercept=True, clt__penalty=l2, clt__solver=newton-cg; total time=   0.0s\n",
      "[CV] END clt__fit_intercept=True, clt__penalty=l2, clt__solver=saga; total time=   0.0s\n",
      "[CV] END clt__fit_intercept=True, clt__penalty=l2, clt__solver=saga; total time=   0.0s\n",
      "[CV] END clt__fit_intercept=True, clt__penalty=l2, clt__solver=saga; total time=   0.0s\n",
      "[CV] END clt__fit_intercept=True, clt__penalty=l2, clt__solver=saga; total time=   0.0s\n",
      "[CV] END clt__fit_intercept=True, clt__penalty=l2, clt__solver=saga; total time=   0.0s\n",
      "[CV] END clt__fit_intercept=True, clt__penalty=elasticnet, clt__solver=lbfgs; total time=   0.0s\n",
      "[CV] END clt__fit_intercept=True, clt__penalty=elasticnet, clt__solver=lbfgs; total time=   0.0s\n",
      "[CV] END clt__fit_intercept=True, clt__penalty=elasticnet, clt__solver=lbfgs; total time=   0.0s\n",
      "[CV] END clt__fit_intercept=True, clt__penalty=elasticnet, clt__solver=lbfgs; total time=   0.0s\n",
      "[CV] END clt__fit_intercept=True, clt__penalty=elasticnet, clt__solver=lbfgs; total time=   0.0s\n",
      "[CV] END clt__fit_intercept=True, clt__penalty=elasticnet, clt__solver=liblinear; total time=   0.0s\n",
      "[CV] END clt__fit_intercept=True, clt__penalty=elasticnet, clt__solver=liblinear; total time=   0.0s\n",
      "[CV] END clt__fit_intercept=True, clt__penalty=elasticnet, clt__solver=liblinear; total time=   0.0s\n",
      "[CV] END clt__fit_intercept=True, clt__penalty=elasticnet, clt__solver=liblinear; total time=   0.0s\n",
      "[CV] END clt__fit_intercept=True, clt__penalty=elasticnet, clt__solver=liblinear; total time=   0.0s\n",
      "[CV] END clt__fit_intercept=True, clt__penalty=elasticnet, clt__solver=newton-cg; total time=   0.0s\n",
      "[CV] END clt__fit_intercept=True, clt__penalty=elasticnet, clt__solver=newton-cg; total time=   0.0s\n",
      "[CV] END clt__fit_intercept=True, clt__penalty=elasticnet, clt__solver=newton-cg; total time=   0.0s\n",
      "[CV] END clt__fit_intercept=True, clt__penalty=elasticnet, clt__solver=newton-cg; total time=   0.0s\n",
      "[CV] END clt__fit_intercept=True, clt__penalty=elasticnet, clt__solver=newton-cg; total time=   0.0s\n",
      "[CV] END clt__fit_intercept=True, clt__penalty=elasticnet, clt__solver=saga; total time=   0.0s\n",
      "[CV] END clt__fit_intercept=True, clt__penalty=elasticnet, clt__solver=saga; total time=   0.0s\n",
      "[CV] END clt__fit_intercept=True, clt__penalty=elasticnet, clt__solver=saga; total time=   0.0s\n",
      "[CV] END clt__fit_intercept=True, clt__penalty=elasticnet, clt__solver=saga; total time=   0.0s\n",
      "[CV] END clt__fit_intercept=True, clt__penalty=elasticnet, clt__solver=saga; total time=   0.0s\n",
      "[CV] END clt__fit_intercept=False, clt__penalty=None, clt__solver=lbfgs; total time=   0.0s\n",
      "[CV] END clt__fit_intercept=False, clt__penalty=None, clt__solver=lbfgs; total time=   0.0s\n",
      "[CV] END clt__fit_intercept=False, clt__penalty=None, clt__solver=lbfgs; total time=   0.0s\n",
      "[CV] END clt__fit_intercept=False, clt__penalty=None, clt__solver=lbfgs; total time=   0.0s\n",
      "[CV] END clt__fit_intercept=False, clt__penalty=None, clt__solver=lbfgs; total time=   0.0s\n",
      "[CV] END clt__fit_intercept=False, clt__penalty=None, clt__solver=liblinear; total time=   0.0s\n",
      "[CV] END clt__fit_intercept=False, clt__penalty=None, clt__solver=liblinear; total time=   0.0s\n",
      "[CV] END clt__fit_intercept=False, clt__penalty=None, clt__solver=liblinear; total time=   0.0s\n",
      "[CV] END clt__fit_intercept=False, clt__penalty=None, clt__solver=liblinear; total time=   0.0s\n",
      "[CV] END clt__fit_intercept=False, clt__penalty=None, clt__solver=liblinear; total time=   0.0s\n",
      "[CV] END clt__fit_intercept=False, clt__penalty=None, clt__solver=newton-cg; total time=   0.0s\n",
      "[CV] END clt__fit_intercept=False, clt__penalty=None, clt__solver=newton-cg; total time=   0.0s\n",
      "[CV] END clt__fit_intercept=False, clt__penalty=None, clt__solver=newton-cg; total time=   0.0s\n",
      "[CV] END clt__fit_intercept=False, clt__penalty=None, clt__solver=newton-cg; total time=   0.0s\n",
      "[CV] END clt__fit_intercept=False, clt__penalty=None, clt__solver=newton-cg; total time=   0.0s\n",
      "[CV] END clt__fit_intercept=False, clt__penalty=None, clt__solver=saga; total time=   0.0s\n",
      "[CV] END clt__fit_intercept=False, clt__penalty=None, clt__solver=saga; total time=   0.0s\n",
      "[CV] END clt__fit_intercept=False, clt__penalty=None, clt__solver=saga; total time=   0.0s\n",
      "[CV] END clt__fit_intercept=False, clt__penalty=None, clt__solver=saga; total time=   0.0s\n",
      "[CV] END clt__fit_intercept=False, clt__penalty=None, clt__solver=saga; total time=   0.0s\n",
      "[CV] END clt__fit_intercept=False, clt__penalty=l1, clt__solver=lbfgs; total time=   0.0s\n",
      "[CV] END clt__fit_intercept=False, clt__penalty=l1, clt__solver=lbfgs; total time=   0.0s\n",
      "[CV] END clt__fit_intercept=False, clt__penalty=l1, clt__solver=lbfgs; total time=   0.0s\n",
      "[CV] END clt__fit_intercept=False, clt__penalty=l1, clt__solver=lbfgs; total time=   0.0s\n",
      "[CV] END clt__fit_intercept=False, clt__penalty=l1, clt__solver=lbfgs; total time=   0.0s\n",
      "[CV] END clt__fit_intercept=False, clt__penalty=l1, clt__solver=liblinear; total time=   0.0s\n",
      "[CV] END clt__fit_intercept=False, clt__penalty=l1, clt__solver=liblinear; total time=   0.0s\n",
      "[CV] END clt__fit_intercept=False, clt__penalty=l1, clt__solver=liblinear; total time=   0.0s\n"
     ]
    },
    {
     "name": "stderr",
     "output_type": "stream",
     "text": [
      "/home/ds/miniconda3/envs/ds/lib/python3.10/site-packages/sklearn/linear_model/_sag.py:350: ConvergenceWarning: The max_iter was reached which means the coef_ did not converge\n",
      "  warnings.warn(\n",
      "/home/ds/miniconda3/envs/ds/lib/python3.10/site-packages/sklearn/linear_model/_sag.py:350: ConvergenceWarning: The max_iter was reached which means the coef_ did not converge\n",
      "  warnings.warn(\n",
      "/home/ds/miniconda3/envs/ds/lib/python3.10/site-packages/sklearn/linear_model/_sag.py:350: ConvergenceWarning: The max_iter was reached which means the coef_ did not converge\n",
      "  warnings.warn(\n",
      "/home/ds/miniconda3/envs/ds/lib/python3.10/site-packages/sklearn/linear_model/_sag.py:350: ConvergenceWarning: The max_iter was reached which means the coef_ did not converge\n",
      "  warnings.warn(\n",
      "/home/ds/miniconda3/envs/ds/lib/python3.10/site-packages/sklearn/linear_model/_sag.py:350: ConvergenceWarning: The max_iter was reached which means the coef_ did not converge\n",
      "  warnings.warn(\n"
     ]
    },
    {
     "name": "stdout",
     "output_type": "stream",
     "text": [
      "[CV] END clt__fit_intercept=False, clt__penalty=l1, clt__solver=liblinear; total time=   0.0s\n",
      "[CV] END clt__fit_intercept=False, clt__penalty=l1, clt__solver=liblinear; total time=   0.0s\n",
      "[CV] END clt__fit_intercept=False, clt__penalty=l1, clt__solver=newton-cg; total time=   0.0s\n",
      "[CV] END clt__fit_intercept=False, clt__penalty=l1, clt__solver=newton-cg; total time=   0.0s\n",
      "[CV] END clt__fit_intercept=False, clt__penalty=l1, clt__solver=newton-cg; total time=   0.0s\n",
      "[CV] END clt__fit_intercept=False, clt__penalty=l1, clt__solver=newton-cg; total time=   0.0s\n",
      "[CV] END clt__fit_intercept=False, clt__penalty=l1, clt__solver=newton-cg; total time=   0.0s\n",
      "[CV] END clt__fit_intercept=False, clt__penalty=l1, clt__solver=saga; total time=   0.0s\n",
      "[CV] END clt__fit_intercept=False, clt__penalty=l1, clt__solver=saga; total time=   0.0s\n",
      "[CV] END clt__fit_intercept=False, clt__penalty=l1, clt__solver=saga; total time=   0.0s\n",
      "[CV] END clt__fit_intercept=False, clt__penalty=l1, clt__solver=saga; total time=   0.0s\n",
      "[CV] END clt__fit_intercept=False, clt__penalty=l1, clt__solver=saga; total time=   0.0s\n",
      "[CV] END clt__fit_intercept=False, clt__penalty=l2, clt__solver=lbfgs; total time=   0.0s\n",
      "[CV] END clt__fit_intercept=False, clt__penalty=l2, clt__solver=lbfgs; total time=   0.0s\n",
      "[CV] END clt__fit_intercept=False, clt__penalty=l2, clt__solver=lbfgs; total time=   0.0s\n",
      "[CV] END clt__fit_intercept=False, clt__penalty=l2, clt__solver=lbfgs; total time=   0.0s\n",
      "[CV] END clt__fit_intercept=False, clt__penalty=l2, clt__solver=lbfgs; total time=   0.0s\n",
      "[CV] END clt__fit_intercept=False, clt__penalty=l2, clt__solver=liblinear; total time=   0.0s\n",
      "[CV] END clt__fit_intercept=False, clt__penalty=l2, clt__solver=liblinear; total time=   0.0s\n",
      "[CV] END clt__fit_intercept=False, clt__penalty=l2, clt__solver=liblinear; total time=   0.0s\n",
      "[CV] END clt__fit_intercept=False, clt__penalty=l2, clt__solver=liblinear; total time=   0.0s\n",
      "[CV] END clt__fit_intercept=False, clt__penalty=l2, clt__solver=liblinear; total time=   0.0s\n",
      "[CV] END clt__fit_intercept=False, clt__penalty=l2, clt__solver=newton-cg; total time=   0.0s\n",
      "[CV] END clt__fit_intercept=False, clt__penalty=l2, clt__solver=newton-cg; total time=   0.0s\n",
      "[CV] END clt__fit_intercept=False, clt__penalty=l2, clt__solver=newton-cg; total time=   0.0s\n",
      "[CV] END clt__fit_intercept=False, clt__penalty=l2, clt__solver=newton-cg; total time=   0.0s\n",
      "[CV] END clt__fit_intercept=False, clt__penalty=l2, clt__solver=newton-cg; total time=   0.0s\n",
      "[CV] END clt__fit_intercept=False, clt__penalty=l2, clt__solver=saga; total time=   0.0s\n",
      "[CV] END clt__fit_intercept=False, clt__penalty=l2, clt__solver=saga; total time=   0.0s\n",
      "[CV] END clt__fit_intercept=False, clt__penalty=l2, clt__solver=saga; total time=   0.0s\n",
      "[CV] END clt__fit_intercept=False, clt__penalty=l2, clt__solver=saga; total time=   0.0s\n",
      "[CV] END clt__fit_intercept=False, clt__penalty=l2, clt__solver=saga; total time=   0.0s\n",
      "[CV] END clt__fit_intercept=False, clt__penalty=elasticnet, clt__solver=lbfgs; total time=   0.0s\n",
      "[CV] END clt__fit_intercept=False, clt__penalty=elasticnet, clt__solver=lbfgs; total time=   0.0s\n",
      "[CV] END clt__fit_intercept=False, clt__penalty=elasticnet, clt__solver=lbfgs; total time=   0.0s\n",
      "[CV] END clt__fit_intercept=False, clt__penalty=elasticnet, clt__solver=lbfgs; total time=   0.0s\n",
      "[CV] END clt__fit_intercept=False, clt__penalty=elasticnet, clt__solver=lbfgs; total time=   0.0s\n",
      "[CV] END clt__fit_intercept=False, clt__penalty=elasticnet, clt__solver=liblinear; total time=   0.0s\n",
      "[CV] END clt__fit_intercept=False, clt__penalty=elasticnet, clt__solver=liblinear; total time=   0.0s\n",
      "[CV] END clt__fit_intercept=False, clt__penalty=elasticnet, clt__solver=liblinear; total time=   0.0s\n",
      "[CV] END clt__fit_intercept=False, clt__penalty=elasticnet, clt__solver=liblinear; total time=   0.0s\n",
      "[CV] END clt__fit_intercept=False, clt__penalty=elasticnet, clt__solver=liblinear; total time=   0.0s\n",
      "[CV] END clt__fit_intercept=False, clt__penalty=elasticnet, clt__solver=newton-cg; total time=   0.0s\n",
      "[CV] END clt__fit_intercept=False, clt__penalty=elasticnet, clt__solver=newton-cg; total time=   0.0s\n",
      "[CV] END clt__fit_intercept=False, clt__penalty=elasticnet, clt__solver=newton-cg; total time=   0.0s\n",
      "[CV] END clt__fit_intercept=False, clt__penalty=elasticnet, clt__solver=newton-cg; total time=   0.0s\n",
      "[CV] END clt__fit_intercept=False, clt__penalty=elasticnet, clt__solver=newton-cg; total time=   0.0s\n",
      "[CV] END clt__fit_intercept=False, clt__penalty=elasticnet, clt__solver=saga; total time=   0.0s\n",
      "[CV] END clt__fit_intercept=False, clt__penalty=elasticnet, clt__solver=saga; total time=   0.0s\n",
      "[CV] END clt__fit_intercept=False, clt__penalty=elasticnet, clt__solver=saga; total time=   0.0s\n",
      "[CV] END clt__fit_intercept=False, clt__penalty=elasticnet, clt__solver=saga; total time=   0.0s\n",
      "[CV] END clt__fit_intercept=False, clt__penalty=elasticnet, clt__solver=saga; total time=   0.0s\n"
     ]
    },
    {
     "name": "stderr",
     "output_type": "stream",
     "text": [
      "/home/ds/miniconda3/envs/ds/lib/python3.10/site-packages/sklearn/model_selection/_validation.py:378: FitFailedWarning: \n",
      "70 fits failed out of a total of 160.\n",
      "The score on these train-test partitions for these parameters will be set to nan.\n",
      "If these failures are not expected, you can try to debug them by setting error_score='raise'.\n",
      "\n",
      "Below are more details about the failures:\n",
      "--------------------------------------------------------------------------------\n",
      "10 fits failed with the following error:\n",
      "Traceback (most recent call last):\n",
      "  File \"/home/ds/miniconda3/envs/ds/lib/python3.10/site-packages/sklearn/model_selection/_validation.py\", line 686, in _fit_and_score\n",
      "    estimator.fit(X_train, y_train, **fit_params)\n",
      "  File \"/home/ds/miniconda3/envs/ds/lib/python3.10/site-packages/sklearn/pipeline.py\", line 405, in fit\n",
      "    self._final_estimator.fit(Xt, y, **fit_params_last_step)\n",
      "  File \"/home/ds/miniconda3/envs/ds/lib/python3.10/site-packages/sklearn/linear_model/_logistic.py\", line 1216, in fit\n",
      "    self.coef_, self.intercept_, self.n_iter_ = _fit_liblinear(\n",
      "  File \"/home/ds/miniconda3/envs/ds/lib/python3.10/site-packages/sklearn/svm/_base.py\", line 1223, in _fit_liblinear\n",
      "    solver_type = _get_liblinear_solver_type(multi_class, penalty, loss, dual)\n",
      "  File \"/home/ds/miniconda3/envs/ds/lib/python3.10/site-packages/sklearn/svm/_base.py\", line 1062, in _get_liblinear_solver_type\n",
      "    raise ValueError(\n",
      "ValueError: Unsupported set of arguments: The combination of penalty='None' and loss='logistic_regression' is not supported, Parameters: penalty=None, loss='logistic_regression', dual=False\n",
      "\n",
      "--------------------------------------------------------------------------------\n",
      "10 fits failed with the following error:\n",
      "Traceback (most recent call last):\n",
      "  File \"/home/ds/miniconda3/envs/ds/lib/python3.10/site-packages/sklearn/model_selection/_validation.py\", line 686, in _fit_and_score\n",
      "    estimator.fit(X_train, y_train, **fit_params)\n",
      "  File \"/home/ds/miniconda3/envs/ds/lib/python3.10/site-packages/sklearn/pipeline.py\", line 405, in fit\n",
      "    self._final_estimator.fit(Xt, y, **fit_params_last_step)\n",
      "  File \"/home/ds/miniconda3/envs/ds/lib/python3.10/site-packages/sklearn/linear_model/_logistic.py\", line 1162, in fit\n",
      "    solver = _check_solver(self.solver, self.penalty, self.dual)\n",
      "  File \"/home/ds/miniconda3/envs/ds/lib/python3.10/site-packages/sklearn/linear_model/_logistic.py\", line 54, in _check_solver\n",
      "    raise ValueError(\n",
      "ValueError: Solver lbfgs supports only 'l2' or 'none' penalties, got l1 penalty.\n",
      "\n",
      "--------------------------------------------------------------------------------\n",
      "10 fits failed with the following error:\n",
      "Traceback (most recent call last):\n",
      "  File \"/home/ds/miniconda3/envs/ds/lib/python3.10/site-packages/sklearn/model_selection/_validation.py\", line 686, in _fit_and_score\n",
      "    estimator.fit(X_train, y_train, **fit_params)\n",
      "  File \"/home/ds/miniconda3/envs/ds/lib/python3.10/site-packages/sklearn/pipeline.py\", line 405, in fit\n",
      "    self._final_estimator.fit(Xt, y, **fit_params_last_step)\n",
      "  File \"/home/ds/miniconda3/envs/ds/lib/python3.10/site-packages/sklearn/linear_model/_logistic.py\", line 1162, in fit\n",
      "    solver = _check_solver(self.solver, self.penalty, self.dual)\n",
      "  File \"/home/ds/miniconda3/envs/ds/lib/python3.10/site-packages/sklearn/linear_model/_logistic.py\", line 54, in _check_solver\n",
      "    raise ValueError(\n",
      "ValueError: Solver newton-cg supports only 'l2' or 'none' penalties, got l1 penalty.\n",
      "\n",
      "--------------------------------------------------------------------------------\n",
      "10 fits failed with the following error:\n",
      "Traceback (most recent call last):\n",
      "  File \"/home/ds/miniconda3/envs/ds/lib/python3.10/site-packages/sklearn/model_selection/_validation.py\", line 686, in _fit_and_score\n",
      "    estimator.fit(X_train, y_train, **fit_params)\n",
      "  File \"/home/ds/miniconda3/envs/ds/lib/python3.10/site-packages/sklearn/pipeline.py\", line 405, in fit\n",
      "    self._final_estimator.fit(Xt, y, **fit_params_last_step)\n",
      "  File \"/home/ds/miniconda3/envs/ds/lib/python3.10/site-packages/sklearn/linear_model/_logistic.py\", line 1162, in fit\n",
      "    solver = _check_solver(self.solver, self.penalty, self.dual)\n",
      "  File \"/home/ds/miniconda3/envs/ds/lib/python3.10/site-packages/sklearn/linear_model/_logistic.py\", line 54, in _check_solver\n",
      "    raise ValueError(\n",
      "ValueError: Solver lbfgs supports only 'l2' or 'none' penalties, got elasticnet penalty.\n",
      "\n",
      "--------------------------------------------------------------------------------\n",
      "10 fits failed with the following error:\n",
      "Traceback (most recent call last):\n",
      "  File \"/home/ds/miniconda3/envs/ds/lib/python3.10/site-packages/sklearn/model_selection/_validation.py\", line 686, in _fit_and_score\n",
      "    estimator.fit(X_train, y_train, **fit_params)\n",
      "  File \"/home/ds/miniconda3/envs/ds/lib/python3.10/site-packages/sklearn/pipeline.py\", line 405, in fit\n",
      "    self._final_estimator.fit(Xt, y, **fit_params_last_step)\n",
      "  File \"/home/ds/miniconda3/envs/ds/lib/python3.10/site-packages/sklearn/linear_model/_logistic.py\", line 1162, in fit\n",
      "    solver = _check_solver(self.solver, self.penalty, self.dual)\n",
      "  File \"/home/ds/miniconda3/envs/ds/lib/python3.10/site-packages/sklearn/linear_model/_logistic.py\", line 64, in _check_solver\n",
      "    raise ValueError(\n",
      "ValueError: Only 'saga' solver supports elasticnet penalty, got solver=liblinear.\n",
      "\n",
      "--------------------------------------------------------------------------------\n",
      "10 fits failed with the following error:\n",
      "Traceback (most recent call last):\n",
      "  File \"/home/ds/miniconda3/envs/ds/lib/python3.10/site-packages/sklearn/model_selection/_validation.py\", line 686, in _fit_and_score\n",
      "    estimator.fit(X_train, y_train, **fit_params)\n",
      "  File \"/home/ds/miniconda3/envs/ds/lib/python3.10/site-packages/sklearn/pipeline.py\", line 405, in fit\n",
      "    self._final_estimator.fit(Xt, y, **fit_params_last_step)\n",
      "  File \"/home/ds/miniconda3/envs/ds/lib/python3.10/site-packages/sklearn/linear_model/_logistic.py\", line 1162, in fit\n",
      "    solver = _check_solver(self.solver, self.penalty, self.dual)\n",
      "  File \"/home/ds/miniconda3/envs/ds/lib/python3.10/site-packages/sklearn/linear_model/_logistic.py\", line 54, in _check_solver\n",
      "    raise ValueError(\n",
      "ValueError: Solver newton-cg supports only 'l2' or 'none' penalties, got elasticnet penalty.\n",
      "\n",
      "--------------------------------------------------------------------------------\n",
      "10 fits failed with the following error:\n",
      "Traceback (most recent call last):\n",
      "  File \"/home/ds/miniconda3/envs/ds/lib/python3.10/site-packages/sklearn/model_selection/_validation.py\", line 686, in _fit_and_score\n",
      "    estimator.fit(X_train, y_train, **fit_params)\n",
      "  File \"/home/ds/miniconda3/envs/ds/lib/python3.10/site-packages/sklearn/pipeline.py\", line 405, in fit\n",
      "    self._final_estimator.fit(Xt, y, **fit_params_last_step)\n",
      "  File \"/home/ds/miniconda3/envs/ds/lib/python3.10/site-packages/sklearn/linear_model/_logistic.py\", line 1291, in fit\n",
      "    fold_coefs_ = Parallel(n_jobs=self.n_jobs, verbose=self.verbose, prefer=prefer)(\n",
      "  File \"/home/ds/miniconda3/envs/ds/lib/python3.10/site-packages/sklearn/utils/parallel.py\", line 63, in __call__\n",
      "    return super().__call__(iterable_with_config)\n",
      "  File \"/home/ds/miniconda3/envs/ds/lib/python3.10/site-packages/joblib/parallel.py\", line 1085, in __call__\n",
      "    if self.dispatch_one_batch(iterator):\n",
      "  File \"/home/ds/miniconda3/envs/ds/lib/python3.10/site-packages/joblib/parallel.py\", line 901, in dispatch_one_batch\n",
      "    self._dispatch(tasks)\n",
      "  File \"/home/ds/miniconda3/envs/ds/lib/python3.10/site-packages/joblib/parallel.py\", line 819, in _dispatch\n",
      "    job = self._backend.apply_async(batch, callback=cb)\n",
      "  File \"/home/ds/miniconda3/envs/ds/lib/python3.10/site-packages/joblib/_parallel_backends.py\", line 208, in apply_async\n",
      "    result = ImmediateResult(func)\n",
      "  File \"/home/ds/miniconda3/envs/ds/lib/python3.10/site-packages/joblib/_parallel_backends.py\", line 597, in __init__\n",
      "    self.results = batch()\n",
      "  File \"/home/ds/miniconda3/envs/ds/lib/python3.10/site-packages/joblib/parallel.py\", line 288, in __call__\n",
      "    return [func(*args, **kwargs)\n",
      "  File \"/home/ds/miniconda3/envs/ds/lib/python3.10/site-packages/joblib/parallel.py\", line 288, in <listcomp>\n",
      "    return [func(*args, **kwargs)\n",
      "  File \"/home/ds/miniconda3/envs/ds/lib/python3.10/site-packages/sklearn/utils/parallel.py\", line 123, in __call__\n",
      "    return self.function(*args, **kwargs)\n",
      "  File \"/home/ds/miniconda3/envs/ds/lib/python3.10/site-packages/sklearn/linear_model/_logistic.py\", line 521, in _logistic_regression_path\n",
      "    alpha = (1.0 / C) * (1 - l1_ratio)\n",
      "TypeError: unsupported operand type(s) for -: 'int' and 'NoneType'\n",
      "\n",
      "  warnings.warn(some_fits_failed_message, FitFailedWarning)\n",
      "/home/ds/miniconda3/envs/ds/lib/python3.10/site-packages/sklearn/model_selection/_search.py:952: UserWarning: One or more of the test scores are non-finite: [0.78673655        nan 0.78673655 0.78673655        nan 0.78673655\n",
      "        nan 0.78673655 0.78673655 0.78673655 0.78673655 0.78673655\n",
      "        nan        nan        nan        nan 0.78673655        nan\n",
      " 0.78673655 0.78673655        nan 0.78673655        nan 0.78673655\n",
      " 0.78673655 0.78673655 0.78673655 0.78673655        nan        nan\n",
      "        nan        nan]\n",
      "  warnings.warn(\n"
     ]
    },
    {
     "data": {
      "text/html": [
       "<style>#sk-container-id-13 {color: black;background-color: white;}#sk-container-id-13 pre{padding: 0;}#sk-container-id-13 div.sk-toggleable {background-color: white;}#sk-container-id-13 label.sk-toggleable__label {cursor: pointer;display: block;width: 100%;margin-bottom: 0;padding: 0.3em;box-sizing: border-box;text-align: center;}#sk-container-id-13 label.sk-toggleable__label-arrow:before {content: \"▸\";float: left;margin-right: 0.25em;color: #696969;}#sk-container-id-13 label.sk-toggleable__label-arrow:hover:before {color: black;}#sk-container-id-13 div.sk-estimator:hover label.sk-toggleable__label-arrow:before {color: black;}#sk-container-id-13 div.sk-toggleable__content {max-height: 0;max-width: 0;overflow: hidden;text-align: left;background-color: #f0f8ff;}#sk-container-id-13 div.sk-toggleable__content pre {margin: 0.2em;color: black;border-radius: 0.25em;background-color: #f0f8ff;}#sk-container-id-13 input.sk-toggleable__control:checked~div.sk-toggleable__content {max-height: 200px;max-width: 100%;overflow: auto;}#sk-container-id-13 input.sk-toggleable__control:checked~label.sk-toggleable__label-arrow:before {content: \"▾\";}#sk-container-id-13 div.sk-estimator input.sk-toggleable__control:checked~label.sk-toggleable__label {background-color: #d4ebff;}#sk-container-id-13 div.sk-label input.sk-toggleable__control:checked~label.sk-toggleable__label {background-color: #d4ebff;}#sk-container-id-13 input.sk-hidden--visually {border: 0;clip: rect(1px 1px 1px 1px);clip: rect(1px, 1px, 1px, 1px);height: 1px;margin: -1px;overflow: hidden;padding: 0;position: absolute;width: 1px;}#sk-container-id-13 div.sk-estimator {font-family: monospace;background-color: #f0f8ff;border: 1px dotted black;border-radius: 0.25em;box-sizing: border-box;margin-bottom: 0.5em;}#sk-container-id-13 div.sk-estimator:hover {background-color: #d4ebff;}#sk-container-id-13 div.sk-parallel-item::after {content: \"\";width: 100%;border-bottom: 1px solid gray;flex-grow: 1;}#sk-container-id-13 div.sk-label:hover label.sk-toggleable__label {background-color: #d4ebff;}#sk-container-id-13 div.sk-serial::before {content: \"\";position: absolute;border-left: 1px solid gray;box-sizing: border-box;top: 0;bottom: 0;left: 50%;z-index: 0;}#sk-container-id-13 div.sk-serial {display: flex;flex-direction: column;align-items: center;background-color: white;padding-right: 0.2em;padding-left: 0.2em;position: relative;}#sk-container-id-13 div.sk-item {position: relative;z-index: 1;}#sk-container-id-13 div.sk-parallel {display: flex;align-items: stretch;justify-content: center;background-color: white;position: relative;}#sk-container-id-13 div.sk-item::before, #sk-container-id-13 div.sk-parallel-item::before {content: \"\";position: absolute;border-left: 1px solid gray;box-sizing: border-box;top: 0;bottom: 0;left: 50%;z-index: -1;}#sk-container-id-13 div.sk-parallel-item {display: flex;flex-direction: column;z-index: 1;position: relative;background-color: white;}#sk-container-id-13 div.sk-parallel-item:first-child::after {align-self: flex-end;width: 50%;}#sk-container-id-13 div.sk-parallel-item:last-child::after {align-self: flex-start;width: 50%;}#sk-container-id-13 div.sk-parallel-item:only-child::after {width: 0;}#sk-container-id-13 div.sk-dashed-wrapped {border: 1px dashed gray;margin: 0 0.4em 0.5em 0.4em;box-sizing: border-box;padding-bottom: 0.4em;background-color: white;}#sk-container-id-13 div.sk-label label {font-family: monospace;font-weight: bold;display: inline-block;line-height: 1.2em;}#sk-container-id-13 div.sk-label-container {text-align: center;}#sk-container-id-13 div.sk-container {/* jupyter's `normalize.less` sets `[hidden] { display: none; }` but bootstrap.min.css set `[hidden] { display: none !important; }` so we also need the `!important` here to be able to override the default hidden behavior on the sphinx rendered scikit-learn.org. See: https://github.com/scikit-learn/scikit-learn/issues/21755 */display: inline-block !important;position: relative;}#sk-container-id-13 div.sk-text-repr-fallback {display: none;}</style><div id=\"sk-container-id-13\" class=\"sk-top-container\"><div class=\"sk-text-repr-fallback\"><pre>GridSearchCV(cv=5,\n",
       "             estimator=Pipeline(steps=[(&#x27;preprocessor&#x27;,\n",
       "                                        ColumnTransformer(transformers=[(&#x27;cat&#x27;,\n",
       "                                                                         OneHotEncoder(),\n",
       "                                                                         [&#x27;Embarked&#x27;,\n",
       "                                                                          &#x27;Sex&#x27;])])),\n",
       "                                       (&#x27;clt&#x27;,\n",
       "                                        LogisticRegression(penalty=None))]),\n",
       "             param_grid={&#x27;clt__fit_intercept&#x27;: [True, False],\n",
       "                         &#x27;clt__penalty&#x27;: [None, &#x27;l1&#x27;, &#x27;l2&#x27;, &#x27;elasticnet&#x27;],\n",
       "                         &#x27;clt__solver&#x27;: [&#x27;lbfgs&#x27;, &#x27;liblinear&#x27;, &#x27;newton-cg&#x27;,\n",
       "                                         &#x27;saga&#x27;]},\n",
       "             verbose=2)</pre><b>In a Jupyter environment, please rerun this cell to show the HTML representation or trust the notebook. <br />On GitHub, the HTML representation is unable to render, please try loading this page with nbviewer.org.</b></div><div class=\"sk-container\" hidden><div class=\"sk-item sk-dashed-wrapped\"><div class=\"sk-label-container\"><div class=\"sk-label sk-toggleable\"><input class=\"sk-toggleable__control sk-hidden--visually\" id=\"sk-estimator-id-64\" type=\"checkbox\" ><label for=\"sk-estimator-id-64\" class=\"sk-toggleable__label sk-toggleable__label-arrow\">GridSearchCV</label><div class=\"sk-toggleable__content\"><pre>GridSearchCV(cv=5,\n",
       "             estimator=Pipeline(steps=[(&#x27;preprocessor&#x27;,\n",
       "                                        ColumnTransformer(transformers=[(&#x27;cat&#x27;,\n",
       "                                                                         OneHotEncoder(),\n",
       "                                                                         [&#x27;Embarked&#x27;,\n",
       "                                                                          &#x27;Sex&#x27;])])),\n",
       "                                       (&#x27;clt&#x27;,\n",
       "                                        LogisticRegression(penalty=None))]),\n",
       "             param_grid={&#x27;clt__fit_intercept&#x27;: [True, False],\n",
       "                         &#x27;clt__penalty&#x27;: [None, &#x27;l1&#x27;, &#x27;l2&#x27;, &#x27;elasticnet&#x27;],\n",
       "                         &#x27;clt__solver&#x27;: [&#x27;lbfgs&#x27;, &#x27;liblinear&#x27;, &#x27;newton-cg&#x27;,\n",
       "                                         &#x27;saga&#x27;]},\n",
       "             verbose=2)</pre></div></div></div><div class=\"sk-parallel\"><div class=\"sk-parallel-item\"><div class=\"sk-item\"><div class=\"sk-label-container\"><div class=\"sk-label sk-toggleable\"><input class=\"sk-toggleable__control sk-hidden--visually\" id=\"sk-estimator-id-65\" type=\"checkbox\" ><label for=\"sk-estimator-id-65\" class=\"sk-toggleable__label sk-toggleable__label-arrow\">estimator: Pipeline</label><div class=\"sk-toggleable__content\"><pre>Pipeline(steps=[(&#x27;preprocessor&#x27;,\n",
       "                 ColumnTransformer(transformers=[(&#x27;cat&#x27;, OneHotEncoder(),\n",
       "                                                  [&#x27;Embarked&#x27;, &#x27;Sex&#x27;])])),\n",
       "                (&#x27;clt&#x27;, LogisticRegression(penalty=None))])</pre></div></div></div><div class=\"sk-serial\"><div class=\"sk-item\"><div class=\"sk-serial\"><div class=\"sk-item sk-dashed-wrapped\"><div class=\"sk-label-container\"><div class=\"sk-label sk-toggleable\"><input class=\"sk-toggleable__control sk-hidden--visually\" id=\"sk-estimator-id-66\" type=\"checkbox\" ><label for=\"sk-estimator-id-66\" class=\"sk-toggleable__label sk-toggleable__label-arrow\">preprocessor: ColumnTransformer</label><div class=\"sk-toggleable__content\"><pre>ColumnTransformer(transformers=[(&#x27;cat&#x27;, OneHotEncoder(), [&#x27;Embarked&#x27;, &#x27;Sex&#x27;])])</pre></div></div></div><div class=\"sk-parallel\"><div class=\"sk-parallel-item\"><div class=\"sk-item\"><div class=\"sk-label-container\"><div class=\"sk-label sk-toggleable\"><input class=\"sk-toggleable__control sk-hidden--visually\" id=\"sk-estimator-id-67\" type=\"checkbox\" ><label for=\"sk-estimator-id-67\" class=\"sk-toggleable__label sk-toggleable__label-arrow\">cat</label><div class=\"sk-toggleable__content\"><pre>[&#x27;Embarked&#x27;, &#x27;Sex&#x27;]</pre></div></div></div><div class=\"sk-serial\"><div class=\"sk-item\"><div class=\"sk-estimator sk-toggleable\"><input class=\"sk-toggleable__control sk-hidden--visually\" id=\"sk-estimator-id-68\" type=\"checkbox\" ><label for=\"sk-estimator-id-68\" class=\"sk-toggleable__label sk-toggleable__label-arrow\">OneHotEncoder</label><div class=\"sk-toggleable__content\"><pre>OneHotEncoder()</pre></div></div></div></div></div></div></div></div><div class=\"sk-item\"><div class=\"sk-estimator sk-toggleable\"><input class=\"sk-toggleable__control sk-hidden--visually\" id=\"sk-estimator-id-69\" type=\"checkbox\" ><label for=\"sk-estimator-id-69\" class=\"sk-toggleable__label sk-toggleable__label-arrow\">LogisticRegression</label><div class=\"sk-toggleable__content\"><pre>LogisticRegression(penalty=None)</pre></div></div></div></div></div></div></div></div></div></div></div></div>"
      ],
      "text/plain": [
       "GridSearchCV(cv=5,\n",
       "             estimator=Pipeline(steps=[('preprocessor',\n",
       "                                        ColumnTransformer(transformers=[('cat',\n",
       "                                                                         OneHotEncoder(),\n",
       "                                                                         ['Embarked',\n",
       "                                                                          'Sex'])])),\n",
       "                                       ('clt',\n",
       "                                        LogisticRegression(penalty=None))]),\n",
       "             param_grid={'clt__fit_intercept': [True, False],\n",
       "                         'clt__penalty': [None, 'l1', 'l2', 'elasticnet'],\n",
       "                         'clt__solver': ['lbfgs', 'liblinear', 'newton-cg',\n",
       "                                         'saga']},\n",
       "             verbose=2)"
      ]
     },
     "execution_count": 185,
     "metadata": {},
     "output_type": "execute_result"
    }
   ],
   "source": [
    "grid.fit(X,y)"
   ]
  },
  {
   "cell_type": "code",
   "execution_count": 178,
   "metadata": {},
   "outputs": [
    {
     "data": {
      "text/html": [
       "<style>#sk-container-id-11 {color: black;background-color: white;}#sk-container-id-11 pre{padding: 0;}#sk-container-id-11 div.sk-toggleable {background-color: white;}#sk-container-id-11 label.sk-toggleable__label {cursor: pointer;display: block;width: 100%;margin-bottom: 0;padding: 0.3em;box-sizing: border-box;text-align: center;}#sk-container-id-11 label.sk-toggleable__label-arrow:before {content: \"▸\";float: left;margin-right: 0.25em;color: #696969;}#sk-container-id-11 label.sk-toggleable__label-arrow:hover:before {color: black;}#sk-container-id-11 div.sk-estimator:hover label.sk-toggleable__label-arrow:before {color: black;}#sk-container-id-11 div.sk-toggleable__content {max-height: 0;max-width: 0;overflow: hidden;text-align: left;background-color: #f0f8ff;}#sk-container-id-11 div.sk-toggleable__content pre {margin: 0.2em;color: black;border-radius: 0.25em;background-color: #f0f8ff;}#sk-container-id-11 input.sk-toggleable__control:checked~div.sk-toggleable__content {max-height: 200px;max-width: 100%;overflow: auto;}#sk-container-id-11 input.sk-toggleable__control:checked~label.sk-toggleable__label-arrow:before {content: \"▾\";}#sk-container-id-11 div.sk-estimator input.sk-toggleable__control:checked~label.sk-toggleable__label {background-color: #d4ebff;}#sk-container-id-11 div.sk-label input.sk-toggleable__control:checked~label.sk-toggleable__label {background-color: #d4ebff;}#sk-container-id-11 input.sk-hidden--visually {border: 0;clip: rect(1px 1px 1px 1px);clip: rect(1px, 1px, 1px, 1px);height: 1px;margin: -1px;overflow: hidden;padding: 0;position: absolute;width: 1px;}#sk-container-id-11 div.sk-estimator {font-family: monospace;background-color: #f0f8ff;border: 1px dotted black;border-radius: 0.25em;box-sizing: border-box;margin-bottom: 0.5em;}#sk-container-id-11 div.sk-estimator:hover {background-color: #d4ebff;}#sk-container-id-11 div.sk-parallel-item::after {content: \"\";width: 100%;border-bottom: 1px solid gray;flex-grow: 1;}#sk-container-id-11 div.sk-label:hover label.sk-toggleable__label {background-color: #d4ebff;}#sk-container-id-11 div.sk-serial::before {content: \"\";position: absolute;border-left: 1px solid gray;box-sizing: border-box;top: 0;bottom: 0;left: 50%;z-index: 0;}#sk-container-id-11 div.sk-serial {display: flex;flex-direction: column;align-items: center;background-color: white;padding-right: 0.2em;padding-left: 0.2em;position: relative;}#sk-container-id-11 div.sk-item {position: relative;z-index: 1;}#sk-container-id-11 div.sk-parallel {display: flex;align-items: stretch;justify-content: center;background-color: white;position: relative;}#sk-container-id-11 div.sk-item::before, #sk-container-id-11 div.sk-parallel-item::before {content: \"\";position: absolute;border-left: 1px solid gray;box-sizing: border-box;top: 0;bottom: 0;left: 50%;z-index: -1;}#sk-container-id-11 div.sk-parallel-item {display: flex;flex-direction: column;z-index: 1;position: relative;background-color: white;}#sk-container-id-11 div.sk-parallel-item:first-child::after {align-self: flex-end;width: 50%;}#sk-container-id-11 div.sk-parallel-item:last-child::after {align-self: flex-start;width: 50%;}#sk-container-id-11 div.sk-parallel-item:only-child::after {width: 0;}#sk-container-id-11 div.sk-dashed-wrapped {border: 1px dashed gray;margin: 0 0.4em 0.5em 0.4em;box-sizing: border-box;padding-bottom: 0.4em;background-color: white;}#sk-container-id-11 div.sk-label label {font-family: monospace;font-weight: bold;display: inline-block;line-height: 1.2em;}#sk-container-id-11 div.sk-label-container {text-align: center;}#sk-container-id-11 div.sk-container {/* jupyter's `normalize.less` sets `[hidden] { display: none; }` but bootstrap.min.css set `[hidden] { display: none !important; }` so we also need the `!important` here to be able to override the default hidden behavior on the sphinx rendered scikit-learn.org. See: https://github.com/scikit-learn/scikit-learn/issues/21755 */display: inline-block !important;position: relative;}#sk-container-id-11 div.sk-text-repr-fallback {display: none;}</style><div id=\"sk-container-id-11\" class=\"sk-top-container\"><div class=\"sk-text-repr-fallback\"><pre>Pipeline(steps=[(&#x27;preprocessor&#x27;,\n",
       "                 ColumnTransformer(transformers=[(&#x27;cat&#x27;, OneHotEncoder(),\n",
       "                                                  [&#x27;Embarked&#x27;, &#x27;Sex&#x27;])])),\n",
       "                (&#x27;clt&#x27;, LogisticRegression(penalty=None))])</pre><b>In a Jupyter environment, please rerun this cell to show the HTML representation or trust the notebook. <br />On GitHub, the HTML representation is unable to render, please try loading this page with nbviewer.org.</b></div><div class=\"sk-container\" hidden><div class=\"sk-item sk-dashed-wrapped\"><div class=\"sk-label-container\"><div class=\"sk-label sk-toggleable\"><input class=\"sk-toggleable__control sk-hidden--visually\" id=\"sk-estimator-id-54\" type=\"checkbox\" ><label for=\"sk-estimator-id-54\" class=\"sk-toggleable__label sk-toggleable__label-arrow\">Pipeline</label><div class=\"sk-toggleable__content\"><pre>Pipeline(steps=[(&#x27;preprocessor&#x27;,\n",
       "                 ColumnTransformer(transformers=[(&#x27;cat&#x27;, OneHotEncoder(),\n",
       "                                                  [&#x27;Embarked&#x27;, &#x27;Sex&#x27;])])),\n",
       "                (&#x27;clt&#x27;, LogisticRegression(penalty=None))])</pre></div></div></div><div class=\"sk-serial\"><div class=\"sk-item sk-dashed-wrapped\"><div class=\"sk-label-container\"><div class=\"sk-label sk-toggleable\"><input class=\"sk-toggleable__control sk-hidden--visually\" id=\"sk-estimator-id-55\" type=\"checkbox\" ><label for=\"sk-estimator-id-55\" class=\"sk-toggleable__label sk-toggleable__label-arrow\">preprocessor: ColumnTransformer</label><div class=\"sk-toggleable__content\"><pre>ColumnTransformer(transformers=[(&#x27;cat&#x27;, OneHotEncoder(), [&#x27;Embarked&#x27;, &#x27;Sex&#x27;])])</pre></div></div></div><div class=\"sk-parallel\"><div class=\"sk-parallel-item\"><div class=\"sk-item\"><div class=\"sk-label-container\"><div class=\"sk-label sk-toggleable\"><input class=\"sk-toggleable__control sk-hidden--visually\" id=\"sk-estimator-id-56\" type=\"checkbox\" ><label for=\"sk-estimator-id-56\" class=\"sk-toggleable__label sk-toggleable__label-arrow\">cat</label><div class=\"sk-toggleable__content\"><pre>[&#x27;Embarked&#x27;, &#x27;Sex&#x27;]</pre></div></div></div><div class=\"sk-serial\"><div class=\"sk-item\"><div class=\"sk-estimator sk-toggleable\"><input class=\"sk-toggleable__control sk-hidden--visually\" id=\"sk-estimator-id-57\" type=\"checkbox\" ><label for=\"sk-estimator-id-57\" class=\"sk-toggleable__label sk-toggleable__label-arrow\">OneHotEncoder</label><div class=\"sk-toggleable__content\"><pre>OneHotEncoder()</pre></div></div></div></div></div></div></div></div><div class=\"sk-item\"><div class=\"sk-estimator sk-toggleable\"><input class=\"sk-toggleable__control sk-hidden--visually\" id=\"sk-estimator-id-58\" type=\"checkbox\" ><label for=\"sk-estimator-id-58\" class=\"sk-toggleable__label sk-toggleable__label-arrow\">LogisticRegression</label><div class=\"sk-toggleable__content\"><pre>LogisticRegression(penalty=None)</pre></div></div></div></div></div></div></div>"
      ],
      "text/plain": [
       "Pipeline(steps=[('preprocessor',\n",
       "                 ColumnTransformer(transformers=[('cat', OneHotEncoder(),\n",
       "                                                  ['Embarked', 'Sex'])])),\n",
       "                ('clt', LogisticRegression(penalty=None))])"
      ]
     },
     "execution_count": 178,
     "metadata": {},
     "output_type": "execute_result"
    }
   ],
   "source": [
    "grid.best_estimator_"
   ]
  },
  {
   "cell_type": "code",
   "execution_count": null,
   "metadata": {},
   "outputs": [],
   "source": []
  }
 ],
 "metadata": {
  "kernelspec": {
   "display_name": "ds",
   "language": "python",
   "name": "python3"
  },
  "language_info": {
   "codemirror_mode": {
    "name": "ipython",
    "version": 3
   },
   "file_extension": ".py",
   "mimetype": "text/x-python",
   "name": "python",
   "nbconvert_exporter": "python",
   "pygments_lexer": "ipython3",
   "version": "3.10.9"
  },
  "orig_nbformat": 4,
  "vscode": {
   "interpreter": {
    "hash": "04a67b237538f62ef7d200ccaa82981b3d48d8a73fb69c80bcfa1c0f2261f4a0"
   }
  }
 },
 "nbformat": 4,
 "nbformat_minor": 2
}
